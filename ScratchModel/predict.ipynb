{
  "nbformat": 4,
  "nbformat_minor": 0,
  "metadata": {
    "colab": {
      "name": "Copy of Predicting-from-Model.ipynb",
      "provenance": [],
      "toc_visible": true
    },
    "kernelspec": {
      "name": "python3",
      "display_name": "Python 3"
    }
  },
  "cells": [
    {
      "cell_type": "code",
      "metadata": {
        "id": "B3kkNXkh2TV2",
        "colab_type": "code",
        "colab": {}
      },
      "source": [
        "import tensorflow as tf"
      ],
      "execution_count": 0,
      "outputs": []
    },
    {
      "cell_type": "code",
      "metadata": {
        "id": "jV6JVNDeV7Yx",
        "colab_type": "code",
        "colab": {}
      },
      "source": [
        "# Downloading the model\n",
        "!wget --no-check-certificate -O /content/model.h5 https://github.com/abhieshekumar/posture-recognition-sytem-dataset/blob/master/ScratchModel/model/model.h5?raw=true"
      ],
      "execution_count": 0,
      "outputs": []
    },
    {
      "cell_type": "code",
      "metadata": {
        "id": "apP6o5wK2sQy",
        "colab_type": "code",
        "colab": {}
      },
      "source": [
        "# Loading the model\n",
        "model = tf.keras.models.load_model('/content/model.h5')"
      ],
      "execution_count": 0,
      "outputs": []
    },
    {
      "cell_type": "code",
      "metadata": {
        "id": "X8-HsTfvohLJ",
        "colab_type": "code",
        "colab": {}
      },
      "source": [
        "import numpy as np\n",
        "def probToClass(proList):\n",
        "  postures = ['bending', 'lying', 'sitting', 'standing']\n",
        "  return postures[np.argmax(proList)]"
      ],
      "execution_count": 0,
      "outputs": []
    },
    {
      "cell_type": "code",
      "metadata": {
        "id": "hUbGZgW_4u2r",
        "colab_type": "code",
        "colab": {}
      },
      "source": [
        "import numpy as np\n",
        "from keras.preprocessing import image\n",
        "import os\n",
        "\n",
        "# Assuming postures to be predicted are present as /content/*.jpg\n",
        "filelist = [ f for f in os.listdir('/content/') if f.endswith('.jpg') ]\n",
        "\n",
        "for fn in filelist:\n",
        "  # Predicting images\n",
        "  path = fn\n",
        "  img = image.load_img(path, target_size=(255, 255), color_mode=\"grayscale\" )\n",
        "  x = image.img_to_array(img)\n",
        "  x = x*(1/255)\n",
        "  x = np.expand_dims(x, axis=0)\n",
        "\n",
        "  images = np.vstack([x])\n",
        "  classes = model.predict(images, batch_size=10)\n",
        "  fn = fn+(\" \"*(40-len(fn)))\n",
        "  # Printing the result\n",
        "  print(fn +\" \"+probToClass(classes))"
      ],
      "execution_count": 0,
      "outputs": []
    },
    {
      "cell_type": "code",
      "metadata": {
        "id": "HoRtLDU9uWwJ",
        "colab_type": "code",
        "colab": {}
      },
      "source": [
        "# Removing the jpg files stored in /content/\n",
        "def clearData():\n",
        "  import os\n",
        "  filelist = [ f for f in os.listdir('/content/') if f.endswith('.jpg') ]\n",
        "  for f in filelist:\n",
        "      os.remove(os.path.join('/content/', f))\n",
        "clearData()"
      ],
      "execution_count": 0,
      "outputs": []
    }
  ]
}