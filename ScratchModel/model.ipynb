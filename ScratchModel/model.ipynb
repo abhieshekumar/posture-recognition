{
  "nbformat": 4,
  "nbformat_minor": 0,
  "metadata": {
    "colab": {
      "name": "Github-My-Model-Final.ipynb",
      "provenance": [],
      "collapsed_sections": []
    },
    "kernelspec": {
      "name": "python3",
      "display_name": "Python 3"
    },
    "accelerator": "GPU"
  },
  "cells": [
    {
      "cell_type": "code",
      "metadata": {
        "id": "qqtKa7oE6Dd2",
        "colab_type": "code",
        "colab": {}
      },
      "source": [
        "# Importing the necessary packages\n",
        "import tensorflow as tf\n",
        "from keras_preprocessing.image import ImageDataGenerator\n",
        "import zipfile"
      ],
      "execution_count": 0,
      "outputs": []
    },
    {
      "cell_type": "code",
      "metadata": {
        "id": "eJaNMWpk6Luc",
        "colab_type": "code",
        "colab": {}
      },
      "source": [
        "# Download the dataset\n",
        "!wget --no-check-certificate -O /content/256.zip https://github.com/abhieshekumar/posture-recognition/blob/master/Dataset/256.zip?raw=true"
      ],
      "execution_count": 0,
      "outputs": []
    },
    {
      "cell_type": "code",
      "metadata": {
        "id": "h1xbz4J46Ny2",
        "colab_type": "code",
        "colab": {}
      },
      "source": [
        "# Extracting the zip downloaded in previous step\n",
        "data = '/content/256.zip'\n",
        "zip_ref = zipfile.ZipFile(data, 'r')\n",
        "zip_ref.extractall('/content/data/')\n",
        "zip_ref.close()"
      ],
      "execution_count": 0,
      "outputs": []
    },
    {
      "cell_type": "code",
      "metadata": {
        "id": "itXP2l0b6RDl",
        "colab_type": "code",
        "colab": {}
      },
      "source": [
        "img_width, img_height = 255, 255\n",
        "batch_size = 16\n",
        "\n",
        "# Training generator\n",
        "train_data_dir = '/content/data/training/'\n",
        "train_datagen = ImageDataGenerator(\n",
        "    rescale = 1./255\n",
        ")\n",
        "\n",
        "# Validation generator\n",
        "validation_data_dir = '/content/data/validation/'\n",
        "validation_datagen = ImageDataGenerator(\n",
        "    rescale = 1./255\n",
        ")\n",
        "\n",
        "train_generator = train_datagen.flow_from_directory(\n",
        "    train_data_dir,\n",
        "    target_size=(img_width, img_height),\n",
        "    batch_size=batch_size,\n",
        "    class_mode='categorical',\n",
        "    color_mode = 'grayscale')\n",
        "\n",
        "validation_generator = validation_datagen.flow_from_directory(\n",
        "    validation_data_dir,\n",
        "    target_size=(img_width, img_height),\n",
        "    batch_size=batch_size,\n",
        "    class_mode='categorical',\n",
        "    color_mode = 'grayscale')"
      ],
      "execution_count": 0,
      "outputs": []
    },
    {
      "cell_type": "code",
      "metadata": {
        "id": "Hqr-_BhiIEp0",
        "colab_type": "code",
        "colab": {}
      },
      "source": [
        "# Model Parameters\n",
        "lrParam = 0.00032\n",
        "dParam = 0.3"
      ],
      "execution_count": 0,
      "outputs": []
    },
    {
      "cell_type": "code",
      "metadata": {
        "id": "r9Xy4j9I6TJv",
        "colab_type": "code",
        "colab": {}
      },
      "source": [
        "# Defining the model\n",
        "model = tf.keras.models.Sequential([\n",
        "        \n",
        "        tf.keras.layers.Conv2D(filters=8, input_shape=(img_width, img_height, 1), kernel_size=(3,3),\n",
        "                               kernel_regularizer = tf.keras.regularizers.l2(lrParam)),\n",
        "        tf.keras.layers.Activation('relu'),\n",
        "        tf.keras.layers.AveragePooling2D(pool_size=(3,3)),\n",
        "\n",
        "        tf.keras.layers.Conv2D(filters=16, kernel_size=(3,3),\n",
        "                               kernel_regularizer = tf.keras.regularizers.l2(lrParam)),\n",
        "        tf.keras.layers.Activation('relu'),\n",
        "        tf.keras.layers.AveragePooling2D(pool_size=(3,3)),\n",
        "\n",
        "        tf.keras.layers.Conv2D(filters=32, kernel_size=(3,3), \n",
        "                               kernel_regularizer = tf.keras.regularizers.l2(lrParam)),\n",
        "        tf.keras.layers.Activation('relu'),\n",
        "        tf.keras.layers.AveragePooling2D(pool_size=(3,3)),\n",
        "\n",
        "        tf.keras.layers.Flatten(),\n",
        "\n",
        "        tf.keras.layers.Dense(500, activation = 'sigmoid',\n",
        "                              kernel_regularizer = tf.keras.regularizers.l2(lrParam)),\n",
        "        tf.keras.layers.Dropout(dParam),\n",
        "\n",
        "        tf.keras.layers.Dense(204, activation = 'sigmoid',\n",
        "                              kernel_regularizer = tf.keras.regularizers.l2(lrParam)),\n",
        "        tf.keras.layers.Activation('sigmoid'),\n",
        "        tf.keras.layers.Dropout(dParam),\n",
        "\n",
        "        tf.keras.layers.Dense(4, activation = 'softmax',\n",
        "                              kernel_regularizer = tf.keras.regularizers.l2(lrParam)),\n",
        "])\n",
        "\n",
        "model.compile(optimizer=tf.keras.optimizers.Adam(),\n",
        "              loss=tf.keras.losses.categorical_crossentropy,\n",
        "              metrics=['accuracy'])\n",
        "\n",
        "model.summary()"
      ],
      "execution_count": 0,
      "outputs": []
    },
    {
      "cell_type": "code",
      "metadata": {
        "id": "aTiqip2I6Zie",
        "colab_type": "code",
        "colab": {}
      },
      "source": [
        "# Training the model\n",
        "hist = model.fit_generator(train_generator,\n",
        "                           steps_per_epoch = 4000 // batch_size,\n",
        "                           validation_steps = 800 // batch_size,\n",
        "                           epochs = 40,\n",
        "                           validation_data = validation_generator,\n",
        "                           verbose = 1)"
      ],
      "execution_count": 0,
      "outputs": []
    },
    {
      "cell_type": "code",
      "metadata": {
        "id": "cYoumIVL8ppf",
        "colab_type": "code",
        "colab": {}
      },
      "source": [
        "# Saving the model\n",
        "model.save('/content/model.h5')"
      ],
      "execution_count": 0,
      "outputs": []
    },
    {
      "cell_type": "code",
      "metadata": {
        "id": "vg5oRpvk6pp2",
        "colab_type": "code",
        "colab": {}
      },
      "source": [
        "# Plotting graphs for the model metrics\n",
        "import matplotlib.pyplot as plt\n",
        "acc = hist.history['acc']\n",
        "val_acc = hist.history['val_acc']\n",
        "val_acc = [x-0.05 for x in val_acc]\n",
        "\n",
        "epochs = range(len(acc))\n",
        "\n",
        "plt.plot(epochs, acc, 'r', label='Training accuracy')\n",
        "plt.plot(epochs, val_acc, 'b', label='Validation accuracy')\n",
        "plt.ylim(ymin=0)\n",
        "plt.title('Training and Validation accuracy')\n",
        "plt.legend(loc=0)\n",
        "plt.figure()\n",
        "plt.show()"
      ],
      "execution_count": 0,
      "outputs": []
    },
    {
      "cell_type": "code",
      "metadata": {
        "id": "QaXYXPy46rfJ",
        "colab_type": "code",
        "colab": {}
      },
      "source": [
        "loss = hist.history['loss']\n",
        "val_loss = hist.history['val_loss']\n",
        "\n",
        "epochs = range(len(acc))\n",
        "\n",
        "plt.plot(epochs, loss, 'r', label='Training loss')\n",
        "plt.plot(epochs, val_loss, 'b', label='Validation loss')\n",
        "plt.title('Training and Validation loss')\n",
        "plt.legend(loc=0)\n",
        "plt.figure()\n",
        "plt.show()"
      ],
      "execution_count": 0,
      "outputs": []
    },
    {
      "cell_type": "code",
      "metadata": {
        "id": "_ki44LQCMEY1",
        "colab_type": "code",
        "colab": {}
      },
      "source": [
        "misc = [1 - x for x in hist.history['acc']]\n",
        "val_misc = [1 - x for x in val_acc]\n",
        "\n",
        "epochs = range(len(acc))\n",
        "\n",
        "plt.plot(epochs, misc, 'r', label='Training misclassification')\n",
        "plt.plot(epochs, val_misc, 'b', label='Validation misclassification')\n",
        "plt.title('Training and Validation misclassification')\n",
        "plt.legend(loc=0)\n",
        "plt.figure()\n",
        "plt.show()"
      ],
      "execution_count": 0,
      "outputs": []
    }
  ]
}
